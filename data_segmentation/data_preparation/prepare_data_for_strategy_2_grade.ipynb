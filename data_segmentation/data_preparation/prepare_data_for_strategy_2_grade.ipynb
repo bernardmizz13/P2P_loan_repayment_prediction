{
 "cells": [
  {
   "cell_type": "code",
   "execution_count": 1,
   "metadata": {},
   "outputs": [],
   "source": [
    "import pandas as pd"
   ]
  },
  {
   "cell_type": "code",
   "execution_count": 2,
   "metadata": {},
   "outputs": [
    {
     "name": "stdout",
     "output_type": "stream",
     "text": [
      "(404831, 134)\n",
      "(173500, 134)\n"
     ]
    }
   ],
   "source": [
    "name = 'use_p2p_lendingclub_filtered_sorted_by_issue_d_and_then_id_70_percent.csv'\n",
    "\n",
    "train = pd.read_csv('./data/strategy_2/' + name)\n",
    "\n",
    "print(train.shape)\n",
    "\n",
    "test = pd.read_csv('./data/strategy_2/use_p2p_lendingclub_filtered_sorted_by_issue_d_and_then_id_30_percent.csv')\n",
    "\n",
    "print(test.shape)"
   ]
  },
  {
   "cell_type": "code",
   "execution_count": 3,
   "metadata": {},
   "outputs": [
    {
     "name": "stdout",
     "output_type": "stream",
     "text": [
      "['grade_A', 'grade_B', 'grade_C', 'grade_D', 'grade_E', 'grade_F']\n",
      "6\n"
     ]
    }
   ],
   "source": [
    "dummy_columns = [col for col in train.columns.tolist() if 'grade' in col and 'sub_grade' not in col]\n",
    "sorted(dummy_columns)\n",
    "print(dummy_columns)\n",
    "print(len(dummy_columns))"
   ]
  },
  {
   "cell_type": "code",
   "execution_count": 4,
   "metadata": {},
   "outputs": [],
   "source": [
    "sub_grades = [col[6:len(col)+1] for col in dummy_columns]"
   ]
  },
  {
   "cell_type": "code",
   "execution_count": 5,
   "metadata": {},
   "outputs": [
    {
     "name": "stdout",
     "output_type": "stream",
     "text": [
      "['A', 'B', 'C', 'D', 'E', 'F']\n"
     ]
    }
   ],
   "source": [
    "print(sub_grades)"
   ]
  },
  {
   "cell_type": "code",
   "execution_count": 6,
   "metadata": {},
   "outputs": [
    {
     "name": "stdout",
     "output_type": "stream",
     "text": [
      "6\n"
     ]
    }
   ],
   "source": [
    "print(len(sub_grades))"
   ]
  },
  {
   "cell_type": "code",
   "execution_count": 7,
   "metadata": {},
   "outputs": [
    {
     "name": "stdout",
     "output_type": "stream",
     "text": [
      "A\n",
      "(20240, 134)\n",
      "6.200592885375494 % defaulters\n",
      "B\n",
      "(20240, 134)\n",
      "12.33201581027668 % defaulters\n",
      "C\n",
      "(20240, 134)\n",
      "21.057312252964426 % defaulters\n",
      "D\n",
      "(20240, 134)\n",
      "28.49308300395257 % defaulters\n",
      "E\n",
      "(20240, 134)\n",
      "36.699604743083 % defaulters\n",
      "F\n",
      "(10939, 134)\n",
      "41.91425175975866 % defaulters\n",
      "G\n",
      "(2715, 134)\n",
      "46.74033149171271 % defaulters\n",
      "[ 20240  40480  60720  80960 101200 112139 114854]\n"
     ]
    }
   ],
   "source": [
    "train_names = []\n",
    "\n",
    "length = []\n",
    "\n",
    "for value, sub_grade in zip(dummy_columns, sub_grades):\n",
    "    \n",
    "    sub_grade_df = train[train[value] == 1]\n",
    "    \n",
    "    name = 'train_' + sub_grade + '_one_hot_encoded'\n",
    "    train_names.append(name)\n",
    "    \n",
    "    if len(sub_grade_df.index)>20240:\n",
    "        sub_grade_df = sub_grade_df.sample(n = 20240, random_state = 20461)\n",
    "    \n",
    "    print(sub_grade)\n",
    "        \n",
    "    print(sub_grade_df.shape)\n",
    "    \n",
    "    defaulters = len(sub_grade_df[sub_grade_df.loan_status == 1].index)\n",
    "    non_defaulters = len(sub_grade_df[sub_grade_df.loan_status == 0].index)\n",
    "    print(str((defaulters/(non_defaulters + defaulters)) * 100), '% defaulters')\n",
    "    \n",
    "    sub_grade_df.to_csv('./data/strateg_2_grade/' + name + '.csv', index = False)\n",
    "    \n",
    "    length.append(len(sub_grade_df.index))\n",
    "\n",
    "rows = []\n",
    "\n",
    "is_last = True\n",
    "for index, row in train.iterrows():\n",
    "    for sub_grade in dummy_columns:\n",
    "        if row[sub_grade] == 1:\n",
    "            is_last = False\n",
    "            break\n",
    "    if is_last is True:\n",
    "        rows.append(row.tolist())\n",
    "        \n",
    "    is_last = True\n",
    "    \n",
    "last_set = pd.DataFrame(data = rows, columns = test.columns)\n",
    "\n",
    "name = 'train_G_one_hot_encoded'\n",
    "train_names.append(name)\n",
    "\n",
    "if len(last_set.index)>20240:\n",
    "    last_set = last_set.sample(n = 20240, random_state = 20461)\n",
    "\n",
    "defaulters = len(last_set[last_set.loan_status == 1].index)\n",
    "non_defaulters = len(last_set[last_set.loan_status == 0].index)\n",
    "\n",
    "last_set.to_csv('./data/strateg_2_grade/' + name + '.csv', index = False)\n",
    "\n",
    "length.append(len(last_set.index))\n",
    "\n",
    "print('G')\n",
    "\n",
    "print(last_set.shape)\n",
    "print(str((defaulters/(non_defaulters + defaulters)) * 100), '% defaulters')\n",
    "\n",
    "import numpy as np\n",
    "print(np.cumsum(length))"
   ]
  },
  {
   "cell_type": "code",
   "execution_count": 8,
   "metadata": {},
   "outputs": [
    {
     "name": "stdout",
     "output_type": "stream",
     "text": [
      "['grade_A', 'grade_B', 'grade_C', 'grade_D', 'grade_E', 'grade_F']\n"
     ]
    }
   ],
   "source": [
    "dummy_columns = [col for col in test.columns.tolist() if 'grade' in col and 'sub_grade' not in col]\n",
    "sorted(dummy_columns)\n",
    "print(dummy_columns)"
   ]
  },
  {
   "cell_type": "code",
   "execution_count": 9,
   "metadata": {},
   "outputs": [],
   "source": [
    "sub_grades = [col[6:len(col)+1] for col in dummy_columns]"
   ]
  },
  {
   "cell_type": "code",
   "execution_count": 10,
   "metadata": {},
   "outputs": [
    {
     "name": "stdout",
     "output_type": "stream",
     "text": [
      "['A', 'B', 'C', 'D', 'E', 'F']\n"
     ]
    }
   ],
   "source": [
    "print(sub_grades)"
   ]
  },
  {
   "cell_type": "code",
   "execution_count": 11,
   "metadata": {},
   "outputs": [
    {
     "name": "stdout",
     "output_type": "stream",
     "text": [
      "6\n"
     ]
    }
   ],
   "source": [
    "print(len(sub_grades))"
   ]
  },
  {
   "cell_type": "code",
   "execution_count": 12,
   "metadata": {},
   "outputs": [
    {
     "name": "stdout",
     "output_type": "stream",
     "text": [
      "A\n",
      "(25336, 134)\n",
      "B\n",
      "(44598, 134)\n",
      "C\n",
      "(50436, 134)\n",
      "D\n",
      "(28397, 134)\n",
      "E\n",
      "(16933, 134)\n",
      "F\n",
      "(6159, 134)\n",
      "G\n",
      "(1641, 134)\n",
      "[ 25336  69934 120370 148767 165700 171859 173500]\n"
     ]
    }
   ],
   "source": [
    "test_names = []\n",
    "\n",
    "length = []\n",
    "\n",
    "for value, sub_grade in zip(dummy_columns, sub_grades):\n",
    "    \n",
    "    sub_grade_df = test[test[value] == 1]\n",
    "    \n",
    "    name = 'test_' + sub_grade + '_one_hot_encoded'\n",
    "    test_names.append(name)\n",
    "    \n",
    "    print(sub_grade)\n",
    "    print(sub_grade_df.shape)\n",
    "    \n",
    "    sub_grade_df.to_csv('./data/strateg_2_grade/' + name + '.csv', index = False)\n",
    "    \n",
    "    length.append(len(sub_grade_df.index))\n",
    "\n",
    "rows = []\n",
    "\n",
    "is_last = True\n",
    "for index, row in test.iterrows():\n",
    "    for sub_grade in dummy_columns:\n",
    "        if row[sub_grade] == 1:\n",
    "            is_last = False\n",
    "            break\n",
    "    if is_last is True:\n",
    "        rows.append(row.tolist())\n",
    "        \n",
    "    is_last = True\n",
    "    \n",
    "last_set = pd.DataFrame(data = rows, columns = test.columns)\n",
    "\n",
    "name = 'test_G_one_hot_encoded'\n",
    "test_names.append(name)\n",
    "last_set.to_csv('./data/strateg_2_grade/' + name + '.csv', index = False)\n",
    "length.append(len(last_set.index))\n",
    "print('G')\n",
    "print(last_set.shape)\n",
    "import numpy as np\n",
    "print(np.cumsum(length))"
   ]
  },
  {
   "cell_type": "code",
   "execution_count": 16,
   "metadata": {},
   "outputs": [],
   "source": [
    "info = pd.DataFrame({'train_names': train_names, 'test_names': test_names})\n",
    "info.to_csv('./data/strateg_2_grade/info.csv', index = False)"
   ]
  },
  {
   "cell_type": "code",
   "execution_count": 17,
   "metadata": {},
   "outputs": [
    {
     "data": {
      "text/html": [
       "<div>\n",
       "<style scoped>\n",
       "    .dataframe tbody tr th:only-of-type {\n",
       "        vertical-align: middle;\n",
       "    }\n",
       "\n",
       "    .dataframe tbody tr th {\n",
       "        vertical-align: top;\n",
       "    }\n",
       "\n",
       "    .dataframe thead th {\n",
       "        text-align: right;\n",
       "    }\n",
       "</style>\n",
       "<table border=\"1\" class=\"dataframe\">\n",
       "  <thead>\n",
       "    <tr style=\"text-align: right;\">\n",
       "      <th></th>\n",
       "      <th>train_names</th>\n",
       "      <th>test_names</th>\n",
       "    </tr>\n",
       "  </thead>\n",
       "  <tbody>\n",
       "    <tr>\n",
       "      <th>0</th>\n",
       "      <td>train_A_one_hot_encoded</td>\n",
       "      <td>test_A_one_hot_encoded</td>\n",
       "    </tr>\n",
       "    <tr>\n",
       "      <th>1</th>\n",
       "      <td>train_B_one_hot_encoded</td>\n",
       "      <td>test_B_one_hot_encoded</td>\n",
       "    </tr>\n",
       "    <tr>\n",
       "      <th>2</th>\n",
       "      <td>train_C_one_hot_encoded</td>\n",
       "      <td>test_C_one_hot_encoded</td>\n",
       "    </tr>\n",
       "    <tr>\n",
       "      <th>3</th>\n",
       "      <td>train_D_one_hot_encoded</td>\n",
       "      <td>test_D_one_hot_encoded</td>\n",
       "    </tr>\n",
       "    <tr>\n",
       "      <th>4</th>\n",
       "      <td>train_E_one_hot_encoded</td>\n",
       "      <td>test_E_one_hot_encoded</td>\n",
       "    </tr>\n",
       "    <tr>\n",
       "      <th>5</th>\n",
       "      <td>train_F_one_hot_encoded</td>\n",
       "      <td>test_F_one_hot_encoded</td>\n",
       "    </tr>\n",
       "    <tr>\n",
       "      <th>6</th>\n",
       "      <td>train_G_one_hot_encoded</td>\n",
       "      <td>test_G_one_hot_encoded</td>\n",
       "    </tr>\n",
       "  </tbody>\n",
       "</table>\n",
       "</div>"
      ],
      "text/plain": [
       "               train_names              test_names\n",
       "0  train_A_one_hot_encoded  test_A_one_hot_encoded\n",
       "1  train_B_one_hot_encoded  test_B_one_hot_encoded\n",
       "2  train_C_one_hot_encoded  test_C_one_hot_encoded\n",
       "3  train_D_one_hot_encoded  test_D_one_hot_encoded\n",
       "4  train_E_one_hot_encoded  test_E_one_hot_encoded\n",
       "5  train_F_one_hot_encoded  test_F_one_hot_encoded\n",
       "6  train_G_one_hot_encoded  test_G_one_hot_encoded"
      ]
     },
     "execution_count": 17,
     "metadata": {},
     "output_type": "execute_result"
    }
   ],
   "source": [
    "info"
   ]
  },
  {
   "cell_type": "code",
   "execution_count": null,
   "metadata": {},
   "outputs": [],
   "source": []
  }
 ],
 "metadata": {
  "kernelspec": {
   "display_name": "Python 3",
   "language": "python",
   "name": "python3"
  },
  "language_info": {
   "codemirror_mode": {
    "name": "ipython",
    "version": 3
   },
   "file_extension": ".py",
   "mimetype": "text/x-python",
   "name": "python",
   "nbconvert_exporter": "python",
   "pygments_lexer": "ipython3",
   "version": "3.7.3"
  }
 },
 "nbformat": 4,
 "nbformat_minor": 4
}
