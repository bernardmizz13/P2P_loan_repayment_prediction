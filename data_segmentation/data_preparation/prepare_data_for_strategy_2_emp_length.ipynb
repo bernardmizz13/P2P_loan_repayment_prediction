{
 "cells": [
  {
   "cell_type": "code",
   "execution_count": 1,
   "metadata": {},
   "outputs": [],
   "source": [
    "import pandas as pd"
   ]
  },
  {
   "cell_type": "code",
   "execution_count": 2,
   "metadata": {},
   "outputs": [
    {
     "name": "stdout",
     "output_type": "stream",
     "text": [
      "(404831, 134)\n",
      "(173500, 134)\n"
     ]
    }
   ],
   "source": [
    "name = 'use_p2p_lendingclub_filtered_sorted_by_issue_d_and_then_id_70_percent.csv'\n",
    "\n",
    "train = pd.read_csv('./data/strategy_2_sub_grade/' + name)\n",
    "\n",
    "print(train.shape)\n",
    "\n",
    "test = pd.read_csv('./data/strategy_2_sub_grade/use_p2p_lendingclub_filtered_sorted_by_issue_d_and_then_id_30_percent.csv')\n",
    "\n",
    "print(test.shape)"
   ]
  },
  {
   "cell_type": "code",
   "execution_count": 3,
   "metadata": {},
   "outputs": [
    {
     "name": "stdout",
     "output_type": "stream",
     "text": [
      "['emp_length_1 year', 'emp_length_10+ years', 'emp_length_2 years', 'emp_length_3 years', 'emp_length_4 years', 'emp_length_5 years', 'emp_length_6 years', 'emp_length_7 years', 'emp_length_8 years', 'emp_length_9 years']\n",
      "10\n"
     ]
    }
   ],
   "source": [
    "dummy_columns = [col for col in train.columns.tolist() if 'emp_length' in col]\n",
    "sorted(dummy_columns)\n",
    "print(dummy_columns)\n",
    "print(len(dummy_columns))"
   ]
  },
  {
   "cell_type": "code",
   "execution_count": 4,
   "metadata": {},
   "outputs": [],
   "source": [
    "sub_grades = [col[11:len(col)+1] for col in dummy_columns]"
   ]
  },
  {
   "cell_type": "code",
   "execution_count": 5,
   "metadata": {},
   "outputs": [
    {
     "name": "stdout",
     "output_type": "stream",
     "text": [
      "['1 year', '10+ years', '2 years', '3 years', '4 years', '5 years', '6 years', '7 years', '8 years', '9 years']\n"
     ]
    }
   ],
   "source": [
    "print(sub_grades)"
   ]
  },
  {
   "cell_type": "code",
   "execution_count": 6,
   "metadata": {},
   "outputs": [
    {
     "name": "stdout",
     "output_type": "stream",
     "text": [
      "10\n"
     ]
    }
   ],
   "source": [
    "print(len(sub_grades))"
   ]
  },
  {
   "cell_type": "code",
   "execution_count": 7,
   "metadata": {},
   "outputs": [
    {
     "name": "stdout",
     "output_type": "stream",
     "text": [
      "1 year\n",
      "(20240, 134)\n",
      "18.656126482213438 % defaulters\n",
      "10+ years\n",
      "(20240, 134)\n",
      "18.127470355731226 % defaulters\n",
      "2 years\n",
      "(20240, 134)\n",
      "18.211462450592887 % defaulters\n",
      "3 years\n",
      "(20240, 134)\n",
      "18.512845849802375 % defaulters\n",
      "4 years\n",
      "(20240, 134)\n",
      "18.295454545454547 % defaulters\n",
      "5 years\n",
      "(20240, 134)\n",
      "17.949604743083004 % defaulters\n",
      "6 years\n",
      "(20240, 134)\n",
      "18.675889328063242 % defaulters\n",
      "7 years\n",
      "(20240, 134)\n",
      "18.947628458498023 % defaulters\n",
      "8 years\n",
      "(19350, 134)\n",
      "19.400516795865634 % defaulters\n",
      "9 years\n",
      "(15447, 134)\n",
      "19.94562050883667 % defaulters\n",
      "less than 1 year\n",
      "(20240, 134)\n",
      "21.368577075098813 % defaulters\n",
      "[ 20240  40480  60720  80960 101200 121440 141680 161920 181270 196717\n",
      " 216957]\n"
     ]
    }
   ],
   "source": [
    "train_names = []\n",
    "\n",
    "length = []\n",
    "\n",
    "for value, sub_grade in zip(dummy_columns, sub_grades):\n",
    "    \n",
    "    sub_grade_df = train[train[value] == 1]\n",
    "    \n",
    "    name = 'train_' + sub_grade + '_one_hot_encoded'\n",
    "    train_names.append(name)\n",
    "    \n",
    "    if len(sub_grade_df.index)>20240:\n",
    "        sub_grade_df = sub_grade_df.sample(n = 20240, random_state = 20461)\n",
    "    \n",
    "    print(sub_grade)\n",
    "        \n",
    "    print(sub_grade_df.shape)\n",
    "    \n",
    "    defaulters = len(sub_grade_df[sub_grade_df.loan_status == 1].index)\n",
    "    non_defaulters = len(sub_grade_df[sub_grade_df.loan_status == 0].index)\n",
    "    print(str((defaulters/(non_defaulters + defaulters)) * 100), '% defaulters')\n",
    "    \n",
    "    sub_grade_df.to_csv('./data/strategy_2_emp_length/' + name + '.csv', index = False)\n",
    "    \n",
    "    length.append(len(sub_grade_df.index))\n",
    "\n",
    "rows = []\n",
    "\n",
    "is_last = True\n",
    "for index, row in train.iterrows():\n",
    "    for sub_grade in dummy_columns:\n",
    "        if row[sub_grade] == 1:\n",
    "            is_last = False\n",
    "            break\n",
    "    if is_last is True:\n",
    "        rows.append(row.tolist())\n",
    "        \n",
    "    is_last = True\n",
    "    \n",
    "last_set = pd.DataFrame(data = rows, columns = test.columns)\n",
    "\n",
    "name = 'train_less than 1 year_one_hot_encoded'\n",
    "train_names.append(name)\n",
    "\n",
    "if len(last_set.index)>20240:\n",
    "    last_set = last_set.sample(n = 20240, random_state = 20461)\n",
    "\n",
    "defaulters = len(last_set[last_set.loan_status == 1].index)\n",
    "non_defaulters = len(last_set[last_set.loan_status == 0].index)\n",
    "\n",
    "last_set.to_csv('./data/strategy_2_emp_length/' + name + '.csv', index = False)\n",
    "\n",
    "length.append(len(last_set.index))\n",
    "\n",
    "print('less than 1 year')\n",
    "\n",
    "print(last_set.shape)\n",
    "print(str((defaulters/(non_defaulters + defaulters)) * 100), '% defaulters')\n",
    "\n",
    "import numpy as np\n",
    "print(np.cumsum(length))"
   ]
  },
  {
   "cell_type": "code",
   "execution_count": 8,
   "metadata": {},
   "outputs": [
    {
     "name": "stdout",
     "output_type": "stream",
     "text": [
      "['emp_length_1 year', 'emp_length_10+ years', 'emp_length_2 years', 'emp_length_3 years', 'emp_length_4 years', 'emp_length_5 years', 'emp_length_6 years', 'emp_length_7 years', 'emp_length_8 years', 'emp_length_9 years']\n"
     ]
    }
   ],
   "source": [
    "dummy_columns = [col for col in test.columns.tolist() if 'emp_length' in col]\n",
    "sorted(dummy_columns)\n",
    "print(dummy_columns)"
   ]
  },
  {
   "cell_type": "code",
   "execution_count": 9,
   "metadata": {},
   "outputs": [],
   "source": [
    "sub_grades = [col[11:len(col)+1] for col in dummy_columns]"
   ]
  },
  {
   "cell_type": "code",
   "execution_count": 10,
   "metadata": {},
   "outputs": [
    {
     "name": "stdout",
     "output_type": "stream",
     "text": [
      "['1 year', '10+ years', '2 years', '3 years', '4 years', '5 years', '6 years', '7 years', '8 years', '9 years']\n"
     ]
    }
   ],
   "source": [
    "print(sub_grades)"
   ]
  },
  {
   "cell_type": "code",
   "execution_count": 11,
   "metadata": {},
   "outputs": [
    {
     "name": "stdout",
     "output_type": "stream",
     "text": [
      "10\n"
     ]
    }
   ],
   "source": [
    "print(len(sub_grades))"
   ]
  },
  {
   "cell_type": "code",
   "execution_count": 12,
   "metadata": {},
   "outputs": [
    {
     "name": "stdout",
     "output_type": "stream",
     "text": [
      "1 year\n",
      "(11620, 134)\n",
      "10+ years\n",
      "(58228, 134)\n",
      "2 years\n",
      "(15819, 134)\n",
      "3 years\n",
      "(13866, 134)\n",
      "4 years\n",
      "(10218, 134)\n",
      "5 years\n",
      "(10596, 134)\n",
      "6 years\n",
      "(6897, 134)\n",
      "7 years\n",
      "(6880, 134)\n",
      "8 years\n",
      "(8665, 134)\n",
      "9 years\n",
      "(7105, 134)\n",
      "less than 1 year\n",
      "(23606, 134)\n",
      "[ 11620  69848  85667  99533 109751 120347 127244 134124 142789 149894\n",
      " 173500]\n"
     ]
    }
   ],
   "source": [
    "test_names = []\n",
    "\n",
    "length = []\n",
    "\n",
    "for value, sub_grade in zip(dummy_columns, sub_grades):\n",
    "    \n",
    "    sub_grade_df = test[test[value] == 1]\n",
    "    \n",
    "    name = 'test_' + sub_grade + '_one_hot_encoded'\n",
    "    test_names.append(name)\n",
    "    \n",
    "    print(sub_grade)\n",
    "    print(sub_grade_df.shape)\n",
    "    \n",
    "    sub_grade_df.to_csv('./data/strategy_2_emp_length/' + name + '.csv', index = False)\n",
    "    \n",
    "    length.append(len(sub_grade_df.index))\n",
    "\n",
    "rows = []\n",
    "\n",
    "is_last = True\n",
    "for index, row in test.iterrows():\n",
    "    for sub_grade in dummy_columns:\n",
    "        if row[sub_grade] == 1:\n",
    "            is_last = False\n",
    "            break\n",
    "    if is_last is True:\n",
    "        rows.append(row.tolist())\n",
    "        \n",
    "    is_last = True\n",
    "    \n",
    "last_set = pd.DataFrame(data = rows, columns = test.columns)\n",
    "\n",
    "name = 'test_less than 1 year_one_hot_encoded'\n",
    "test_names.append(name)\n",
    "last_set.to_csv('./data/strategy_2_emp_length/' + name + '.csv', index = False)\n",
    "length.append(len(last_set.index))\n",
    "print('less than 1 year')\n",
    "print(last_set.shape)\n",
    "import numpy as np\n",
    "print(np.cumsum(length))"
   ]
  },
  {
   "cell_type": "code",
   "execution_count": 14,
   "metadata": {},
   "outputs": [],
   "source": [
    "info = pd.DataFrame({'train_names': train_names, 'test_names': test_names})\n",
    "info.to_csv('./data/strategy_2_emp_length/info.csv', index = False)"
   ]
  },
  {
   "cell_type": "code",
   "execution_count": 15,
   "metadata": {},
   "outputs": [
    {
     "data": {
      "text/html": [
       "<div>\n",
       "<style scoped>\n",
       "    .dataframe tbody tr th:only-of-type {\n",
       "        vertical-align: middle;\n",
       "    }\n",
       "\n",
       "    .dataframe tbody tr th {\n",
       "        vertical-align: top;\n",
       "    }\n",
       "\n",
       "    .dataframe thead th {\n",
       "        text-align: right;\n",
       "    }\n",
       "</style>\n",
       "<table border=\"1\" class=\"dataframe\">\n",
       "  <thead>\n",
       "    <tr style=\"text-align: right;\">\n",
       "      <th></th>\n",
       "      <th>train_names</th>\n",
       "      <th>test_names</th>\n",
       "    </tr>\n",
       "  </thead>\n",
       "  <tbody>\n",
       "    <tr>\n",
       "      <th>0</th>\n",
       "      <td>train_1 year_one_hot_encoded</td>\n",
       "      <td>test_1 year_one_hot_encoded</td>\n",
       "    </tr>\n",
       "    <tr>\n",
       "      <th>1</th>\n",
       "      <td>train_10+ years_one_hot_encoded</td>\n",
       "      <td>test_10+ years_one_hot_encoded</td>\n",
       "    </tr>\n",
       "    <tr>\n",
       "      <th>2</th>\n",
       "      <td>train_2 years_one_hot_encoded</td>\n",
       "      <td>test_2 years_one_hot_encoded</td>\n",
       "    </tr>\n",
       "    <tr>\n",
       "      <th>3</th>\n",
       "      <td>train_3 years_one_hot_encoded</td>\n",
       "      <td>test_3 years_one_hot_encoded</td>\n",
       "    </tr>\n",
       "    <tr>\n",
       "      <th>4</th>\n",
       "      <td>train_4 years_one_hot_encoded</td>\n",
       "      <td>test_4 years_one_hot_encoded</td>\n",
       "    </tr>\n",
       "    <tr>\n",
       "      <th>5</th>\n",
       "      <td>train_5 years_one_hot_encoded</td>\n",
       "      <td>test_5 years_one_hot_encoded</td>\n",
       "    </tr>\n",
       "    <tr>\n",
       "      <th>6</th>\n",
       "      <td>train_6 years_one_hot_encoded</td>\n",
       "      <td>test_6 years_one_hot_encoded</td>\n",
       "    </tr>\n",
       "    <tr>\n",
       "      <th>7</th>\n",
       "      <td>train_7 years_one_hot_encoded</td>\n",
       "      <td>test_7 years_one_hot_encoded</td>\n",
       "    </tr>\n",
       "    <tr>\n",
       "      <th>8</th>\n",
       "      <td>train_8 years_one_hot_encoded</td>\n",
       "      <td>test_8 years_one_hot_encoded</td>\n",
       "    </tr>\n",
       "    <tr>\n",
       "      <th>9</th>\n",
       "      <td>train_9 years_one_hot_encoded</td>\n",
       "      <td>test_9 years_one_hot_encoded</td>\n",
       "    </tr>\n",
       "    <tr>\n",
       "      <th>10</th>\n",
       "      <td>train_less than 1 year_one_hot_encoded</td>\n",
       "      <td>test_less than 1 year_one_hot_encoded</td>\n",
       "    </tr>\n",
       "  </tbody>\n",
       "</table>\n",
       "</div>"
      ],
      "text/plain": [
       "                               train_names  \\\n",
       "0             train_1 year_one_hot_encoded   \n",
       "1          train_10+ years_one_hot_encoded   \n",
       "2            train_2 years_one_hot_encoded   \n",
       "3            train_3 years_one_hot_encoded   \n",
       "4            train_4 years_one_hot_encoded   \n",
       "5            train_5 years_one_hot_encoded   \n",
       "6            train_6 years_one_hot_encoded   \n",
       "7            train_7 years_one_hot_encoded   \n",
       "8            train_8 years_one_hot_encoded   \n",
       "9            train_9 years_one_hot_encoded   \n",
       "10  train_less than 1 year_one_hot_encoded   \n",
       "\n",
       "                               test_names  \n",
       "0             test_1 year_one_hot_encoded  \n",
       "1          test_10+ years_one_hot_encoded  \n",
       "2            test_2 years_one_hot_encoded  \n",
       "3            test_3 years_one_hot_encoded  \n",
       "4            test_4 years_one_hot_encoded  \n",
       "5            test_5 years_one_hot_encoded  \n",
       "6            test_6 years_one_hot_encoded  \n",
       "7            test_7 years_one_hot_encoded  \n",
       "8            test_8 years_one_hot_encoded  \n",
       "9            test_9 years_one_hot_encoded  \n",
       "10  test_less than 1 year_one_hot_encoded  "
      ]
     },
     "execution_count": 15,
     "metadata": {},
     "output_type": "execute_result"
    }
   ],
   "source": [
    "info"
   ]
  },
  {
   "cell_type": "code",
   "execution_count": null,
   "metadata": {},
   "outputs": [],
   "source": []
  }
 ],
 "metadata": {
  "kernelspec": {
   "display_name": "Python 3",
   "language": "python",
   "name": "python3"
  },
  "language_info": {
   "codemirror_mode": {
    "name": "ipython",
    "version": 3
   },
   "file_extension": ".py",
   "mimetype": "text/x-python",
   "name": "python",
   "nbconvert_exporter": "python",
   "pygments_lexer": "ipython3",
   "version": "3.7.3"
  }
 },
 "nbformat": 4,
 "nbformat_minor": 4
}
